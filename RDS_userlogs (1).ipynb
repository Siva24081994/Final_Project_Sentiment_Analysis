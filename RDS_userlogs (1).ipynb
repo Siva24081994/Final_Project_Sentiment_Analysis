{
  "nbformat": 4,
  "nbformat_minor": 0,
  "metadata": {
    "colab": {
      "provenance": []
    },
    "kernelspec": {
      "name": "python3",
      "display_name": "Python 3"
    },
    "language_info": {
      "name": "python"
    }
  },
  "cells": [
    {
      "cell_type": "code",
      "execution_count": null,
      "metadata": {
        "colab": {
          "base_uri": "https://localhost:8080/"
        },
        "id": "o5LKz5vVNzNP",
        "outputId": "95375efe-382a-407c-cc52-c7e2f368e8e6"
      },
      "outputs": [
        {
          "output_type": "stream",
          "name": "stdout",
          "text": [
            "Collecting mysql-connector-python\n",
            "  Downloading mysql_connector_python-9.1.0-cp310-cp310-manylinux_2_28_x86_64.whl.metadata (6.0 kB)\n",
            "Downloading mysql_connector_python-9.1.0-cp310-cp310-manylinux_2_28_x86_64.whl (34.4 MB)\n",
            "\u001b[2K   \u001b[90m━━━━━━━━━━━━━━━━━━━━━━━━━━━━━━━━━━━━━━━━\u001b[0m \u001b[32m34.4/34.4 MB\u001b[0m \u001b[31m34.8 MB/s\u001b[0m eta \u001b[36m0:00:00\u001b[0m\n",
            "\u001b[?25hInstalling collected packages: mysql-connector-python\n",
            "Successfully installed mysql-connector-python-9.1.0\n"
          ]
        }
      ],
      "source": [
        "!pip3 install mysql-connector-python"
      ]
    },
    {
      "cell_type": "code",
      "source": [
        "import mysql.connector"
      ],
      "metadata": {
        "id": "vOtb4ym_PZlM"
      },
      "execution_count": null,
      "outputs": []
    },
    {
      "cell_type": "code",
      "source": [
        "mydb = mysql.connector.connect(\n",
        "  host=\"database-1.cf2mqcmcq1zs.ap-south-1.rds.amazonaws.com\",\n",
        "  user=\"admin\",\n",
        "  password=\"omsakthi\",\n",
        "  #database='joins'\n",
        "\n",
        ")\n",
        "\n",
        "print(mydb)\n",
        "mycursor = mydb.cursor(buffered=True)\n",
        "\n",
        "\n",
        "mycursor.execute(\"SHOW DATABASES\")\n",
        "\n",
        "for x in mycursor:\n",
        "  print(x)\n",
        "\n"
      ],
      "metadata": {
        "colab": {
          "base_uri": "https://localhost:8080/"
        },
        "id": "UUs0qXX6OI30",
        "outputId": "f729b813-48a5-4acf-f0b1-427b9b5ca953"
      },
      "execution_count": null,
      "outputs": [
        {
          "output_type": "stream",
          "name": "stdout",
          "text": [
            "<mysql.connector.connection_cext.CMySQLConnection object at 0x78a6d0bdbbb0>\n",
            "('information_schema',)\n",
            "('mysql',)\n",
            "('performance_schema',)\n",
            "('sys',)\n",
            "('userlogs',)\n"
          ]
        }
      ]
    },
    {
      "cell_type": "code",
      "source": [
        "# SQL command to create a new database\n",
        "mycursor.execute(\"CREATE DATABASE userlogs;\")\n",
        "\n",
        "# Verify the database was created\n",
        "mycursor.execute(\"SHOW DATABASES;\")\n",
        "for db in mycursor.fetchall():\n",
        "    print(db)\n"
      ],
      "metadata": {
        "colab": {
          "base_uri": "https://localhost:8080/",
          "height": 418
        },
        "id": "J03kWoA4RbFv",
        "outputId": "dcacb73b-a03c-483c-c6cb-125fd8cc46fc"
      },
      "execution_count": null,
      "outputs": [
        {
          "output_type": "error",
          "ename": "DatabaseError",
          "evalue": "1007 (HY000): Can't create database 'userlogs'; database exists",
          "traceback": [
            "\u001b[0;31m---------------------------------------------------------------------------\u001b[0m",
            "\u001b[0;31mMySQLInterfaceError\u001b[0m                       Traceback (most recent call last)",
            "\u001b[0;32m/usr/local/lib/python3.10/dist-packages/mysql/connector/connection_cext.py\u001b[0m in \u001b[0;36mcmd_query\u001b[0;34m(self, query, raw, buffered, raw_as_string)\u001b[0m\n\u001b[1;32m    705\u001b[0m                 \u001b[0mquery\u001b[0m \u001b[0;34m=\u001b[0m \u001b[0mquery\u001b[0m\u001b[0;34m.\u001b[0m\u001b[0mencode\u001b[0m\u001b[0;34m(\u001b[0m\u001b[0;34m\"utf-8\"\u001b[0m\u001b[0;34m)\u001b[0m\u001b[0;34m\u001b[0m\u001b[0;34m\u001b[0m\u001b[0m\n\u001b[0;32m--> 706\u001b[0;31m             self._cmysql.query(\n\u001b[0m\u001b[1;32m    707\u001b[0m                 \u001b[0mquery\u001b[0m\u001b[0;34m,\u001b[0m\u001b[0;34m\u001b[0m\u001b[0;34m\u001b[0m\u001b[0m\n",
            "\u001b[0;31mMySQLInterfaceError\u001b[0m: Can't create database 'userlogs'; database exists",
            "\nThe above exception was the direct cause of the following exception:\n",
            "\u001b[0;31mDatabaseError\u001b[0m                             Traceback (most recent call last)",
            "\u001b[0;32m<ipython-input-4-3dc644d76f41>\u001b[0m in \u001b[0;36m<cell line: 2>\u001b[0;34m()\u001b[0m\n\u001b[1;32m      1\u001b[0m \u001b[0;31m# SQL command to create a new database\u001b[0m\u001b[0;34m\u001b[0m\u001b[0;34m\u001b[0m\u001b[0m\n\u001b[0;32m----> 2\u001b[0;31m \u001b[0mmycursor\u001b[0m\u001b[0;34m.\u001b[0m\u001b[0mexecute\u001b[0m\u001b[0;34m(\u001b[0m\u001b[0;34m\"CREATE DATABASE userlogs;\"\u001b[0m\u001b[0;34m)\u001b[0m\u001b[0;34m\u001b[0m\u001b[0;34m\u001b[0m\u001b[0m\n\u001b[0m\u001b[1;32m      3\u001b[0m \u001b[0;34m\u001b[0m\u001b[0m\n\u001b[1;32m      4\u001b[0m \u001b[0;31m# Verify the database was created\u001b[0m\u001b[0;34m\u001b[0m\u001b[0;34m\u001b[0m\u001b[0m\n\u001b[1;32m      5\u001b[0m \u001b[0mmycursor\u001b[0m\u001b[0;34m.\u001b[0m\u001b[0mexecute\u001b[0m\u001b[0;34m(\u001b[0m\u001b[0;34m\"SHOW DATABASES;\"\u001b[0m\u001b[0;34m)\u001b[0m\u001b[0;34m\u001b[0m\u001b[0;34m\u001b[0m\u001b[0m\n",
            "\u001b[0;32m/usr/local/lib/python3.10/dist-packages/mysql/connector/cursor_cext.py\u001b[0m in \u001b[0;36mexecute\u001b[0;34m(self, operation, params, multi)\u001b[0m\n\u001b[1;32m    355\u001b[0m \u001b[0;34m\u001b[0m\u001b[0m\n\u001b[1;32m    356\u001b[0m         \u001b[0;32mtry\u001b[0m\u001b[0;34m:\u001b[0m\u001b[0;34m\u001b[0m\u001b[0;34m\u001b[0m\u001b[0m\n\u001b[0;32m--> 357\u001b[0;31m             result = self._connection.cmd_query(\n\u001b[0m\u001b[1;32m    358\u001b[0m                 \u001b[0mstmt\u001b[0m\u001b[0;34m,\u001b[0m\u001b[0;34m\u001b[0m\u001b[0;34m\u001b[0m\u001b[0m\n\u001b[1;32m    359\u001b[0m                 \u001b[0mraw\u001b[0m\u001b[0;34m=\u001b[0m\u001b[0mself\u001b[0m\u001b[0;34m.\u001b[0m\u001b[0m_raw\u001b[0m\u001b[0;34m,\u001b[0m\u001b[0;34m\u001b[0m\u001b[0;34m\u001b[0m\u001b[0m\n",
            "\u001b[0;32m/usr/local/lib/python3.10/dist-packages/mysql/connector/opentelemetry/context_propagation.py\u001b[0m in \u001b[0;36mwrapper\u001b[0;34m(cnx, *args, **kwargs)\u001b[0m\n\u001b[1;32m    104\u001b[0m \u001b[0;34m\u001b[0m\u001b[0m\n\u001b[1;32m    105\u001b[0m         \u001b[0;32mtry\u001b[0m\u001b[0;34m:\u001b[0m\u001b[0;34m\u001b[0m\u001b[0;34m\u001b[0m\u001b[0m\n\u001b[0;32m--> 106\u001b[0;31m             \u001b[0mresult\u001b[0m \u001b[0;34m=\u001b[0m \u001b[0mmethod\u001b[0m\u001b[0;34m(\u001b[0m\u001b[0mcnx\u001b[0m\u001b[0;34m,\u001b[0m \u001b[0;34m*\u001b[0m\u001b[0margs\u001b[0m\u001b[0;34m,\u001b[0m \u001b[0;34m**\u001b[0m\u001b[0mkwargs\u001b[0m\u001b[0;34m)\u001b[0m\u001b[0;34m\u001b[0m\u001b[0;34m\u001b[0m\u001b[0m\n\u001b[0m\u001b[1;32m    107\u001b[0m         \u001b[0;32mfinally\u001b[0m\u001b[0;34m:\u001b[0m\u001b[0;34m\u001b[0m\u001b[0;34m\u001b[0m\u001b[0m\n\u001b[1;32m    108\u001b[0m             \u001b[0;32mif\u001b[0m \u001b[0mtp_header\u001b[0m \u001b[0;32mis\u001b[0m \u001b[0;32mnot\u001b[0m \u001b[0;32mNone\u001b[0m\u001b[0;34m:\u001b[0m\u001b[0;34m\u001b[0m\u001b[0;34m\u001b[0m\u001b[0m\n",
            "\u001b[0;32m/usr/local/lib/python3.10/dist-packages/mysql/connector/connection_cext.py\u001b[0m in \u001b[0;36mcmd_query\u001b[0;34m(self, query, raw, buffered, raw_as_string)\u001b[0m\n\u001b[1;32m    712\u001b[0m             )\n\u001b[1;32m    713\u001b[0m         \u001b[0;32mexcept\u001b[0m \u001b[0mMySQLInterfaceError\u001b[0m \u001b[0;32mas\u001b[0m \u001b[0merr\u001b[0m\u001b[0;34m:\u001b[0m\u001b[0;34m\u001b[0m\u001b[0;34m\u001b[0m\u001b[0m\n\u001b[0;32m--> 714\u001b[0;31m             raise get_mysql_exception(\n\u001b[0m\u001b[1;32m    715\u001b[0m                 \u001b[0merr\u001b[0m\u001b[0;34m.\u001b[0m\u001b[0merrno\u001b[0m\u001b[0;34m,\u001b[0m \u001b[0mmsg\u001b[0m\u001b[0;34m=\u001b[0m\u001b[0merr\u001b[0m\u001b[0;34m.\u001b[0m\u001b[0mmsg\u001b[0m\u001b[0;34m,\u001b[0m \u001b[0msqlstate\u001b[0m\u001b[0;34m=\u001b[0m\u001b[0merr\u001b[0m\u001b[0;34m.\u001b[0m\u001b[0msqlstate\u001b[0m\u001b[0;34m\u001b[0m\u001b[0;34m\u001b[0m\u001b[0m\n\u001b[1;32m    716\u001b[0m             ) from err\n",
            "\u001b[0;31mDatabaseError\u001b[0m: 1007 (HY000): Can't create database 'userlogs'; database exists"
          ]
        }
      ]
    },
    {
      "cell_type": "code",
      "source": [
        "mycursor.execute(\"USE userlogs;\")\n"
      ],
      "metadata": {
        "id": "henT4I6xR1df"
      },
      "execution_count": null,
      "outputs": []
    },
    {
      "cell_type": "code",
      "source": [
        "mycursor.execute(\"\"\"\n",
        "CREATE TABLE sentiment_logs (\n",
        "    id INT AUTO_INCREMENT PRIMARY KEY,\n",
        "    text TEXT NOT NULL,\n",
        "    predicted_class INT NOT NULL,\n",
        "    negative FLOAT NOT NULL,\n",
        "    neutral FLOAT NOT NULL,\n",
        "    positive FLOAT NOT NULL,\n",
        "    timestamp TIMESTAMP DEFAULT CURRENT_TIMESTAMP\n",
        ")\n",
        "\"\"\")\n"
      ],
      "metadata": {
        "id": "_jpjslu0PfgY"
      },
      "execution_count": null,
      "outputs": []
    },
    {
      "cell_type": "code",
      "source": [
        "mycursor.execute(\"SELECT * FROM sentiment_logs\")\n",
        "\n",
        "out=mycursor.fetchall()\n",
        "from tabulate import tabulate\n",
        "print(tabulate(out,headers=[i[0] for i in mycursor.description],  tablefmt='psql'))\n"
      ],
      "metadata": {
        "id": "hsgt8HGp88Fd",
        "colab": {
          "base_uri": "https://localhost:8080/"
        },
        "outputId": "ee64a6f5-400d-4899-8aad-48524945db22"
      },
      "execution_count": null,
      "outputs": [
        {
          "output_type": "stream",
          "name": "stdout",
          "text": [
            "+------+--------------------------------------------+-------------------+------------+-------------+------------+---------------------+---------------+\n",
            "|   id | text                                       |   predicted_class |   negative |     neutral |   positive | timestamp           | ip_address    |\n",
            "|------+--------------------------------------------+-------------------+------------+-------------+------------+---------------------+---------------|\n",
            "|    1 | it's great                                 |                 3 | 0.0623961  | 0.040133    | 0.897471   | 2025-01-02 16:57:41 |               |\n",
            "|    2 | I am very happy to see you🤗😊🤗           |                 3 | 0.0347246  | 0.0302596   | 0.935016   | 2025-01-02 17:05:17 |               |\n",
            "|    3 | i am happpy                                |                 1 | 0.997856   | 0.000723922 | 0.00142033 | 2025-01-02 17:05:59 |               |\n",
            "|    4 | i am happy                                 |                 3 | 0.245444   | 0.0834217   | 0.671134   | 2025-01-02 17:06:09 |               |\n",
            "|    5 | hi, i am very happy to see you!!!          |                 3 | 0.0036999  | 0.0135288   | 0.982771   | 2025-01-02 17:17:59 |               |\n",
            "|    6 | i am happy to see you                      |                 3 | 0.00700958 | 0.0137063   | 0.979284   | 2025-01-02 17:19:02 |               |\n",
            "|    7 | happy happy happy                          |                 3 | 0.174738   | 0.135312    | 0.68995    | 2025-01-02 17:30:55 |               |\n",
            "|    8 | Fantastic!                                 |                 3 | 0.0281577  | 0.027957    | 0.943885   | 2025-01-02 17:37:19 | 172.31.53.27  |\n",
            "|    9 | Excited to see you!happy!!!                |                 3 | 0.00964228 | 0.0283039   | 0.962054   | 2025-01-02 17:42:38 | 172.31.53.27  |\n",
            "|   10 | Good                                       |                 3 | 0.210382   | 0.129441    | 0.660177   | 2025-01-02 17:45:56 | 172.31.12.75  |\n",
            "|   11 | hi,how are you?                            |                 3 | 0.0209203  | 0.0858009   | 0.893279   | 2025-01-03 09:58:05 | 172.31.12.75  |\n",
            "|   12 | hi,good morning! happy to see you today!!! |                 3 | 0.0255978  | 0.390907    | 0.583496   | 2025-01-06 03:06:06 | 172.31.12.75  |\n",
            "|   13 | Hi,Good evening!!!                         |                 3 | 0.0121557  | 0.0660376   | 0.921807   | 2025-01-06 12:10:32 | 172.31.53.27  |\n",
            "|   14 | Hi,Good evening!!!                         |                 3 | 0.0121557  | 0.0660376   | 0.921807   | 2025-01-06 12:23:07 | 172.31.47.213 |\n",
            "|   15 | Hi,Good evening!!!                         |                 3 | 0.0121557  | 0.0660376   | 0.921807   | 2025-01-06 12:46:31 | 172.31.19.64  |\n",
            "+------+--------------------------------------------+-------------------+------------+-------------+------------+---------------------+---------------+\n"
          ]
        }
      ]
    },
    {
      "cell_type": "code",
      "source": [],
      "metadata": {
        "id": "6gxtIjlBlM43"
      },
      "execution_count": null,
      "outputs": []
    }
  ]
}